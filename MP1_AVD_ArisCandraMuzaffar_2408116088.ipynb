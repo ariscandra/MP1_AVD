{
  "nbformat": 4,
  "nbformat_minor": 0,
  "metadata": {
    "colab": {
      "provenance": [],
      "authorship_tag": "ABX9TyMpbvQwz71XIEYCTOQ2XeNG",
      "include_colab_link": true
    },
    "kernelspec": {
      "name": "python3",
      "display_name": "Python 3"
    },
    "language_info": {
      "name": "python"
    }
  },
  "cells": [
    {
      "cell_type": "markdown",
      "metadata": {
        "id": "view-in-github",
        "colab_type": "text"
      },
      "source": [
        "<a href=\"https://colab.research.google.com/github/ariscandra/MP1_AVD/blob/main/MP1_AVD_ArisCandraMuzaffar_2408116088.ipynb\" target=\"_parent\"><img src=\"https://colab.research.google.com/assets/colab-badge.svg\" alt=\"Open In Colab\"/></a>"
      ]
    },
    {
      "cell_type": "markdown",
      "source": [
        "# **BUSINESS UNDERSTANDING**"
      ],
      "metadata": {
        "id": "eg7G-ktnvCHW"
      }
    },
    {
      "cell_type": "markdown",
      "source": [
        "### Business Objective"
      ],
      "metadata": {
        "id": "wpW_aTeJwCv7"
      }
    },
    {
      "cell_type": "markdown",
      "source": [
        "Tujuan utama dari proyek ini adalah untuk menganalisis efektivitas berbagai sumber lalu lintas (traffic source) terhadap kinerja situs web guna meningkatkan strategi pemasaran digital. Analisis ini bertujuan untuk memahami bagaimana lalu lintas dari sumber berbeda (Organic, Social, Paid, dll.) mempengaruhi metrik utama seperti bounce rate, session duration, dan conversion rate. Dengan pemahaman ini, strategi pemasaran dapat dioptimalkan untuk meningkatkan efisiensi pengeluaran iklan serta meningkatkan konversi dan keterlibatan pengguna."
      ],
      "metadata": {
        "id": "roccvREpvp11"
      }
    },
    {
      "cell_type": "markdown",
      "source": [
        "### Assess Situation"
      ],
      "metadata": {
        "id": "X_cgOIloveDN"
      }
    },
    {
      "cell_type": "markdown",
      "source": [
        "Persaingan dalam pemasaran digital semakin ketat, dan perusahaan perlu memahami dari mana lalu lintas terbaik berasal untuk mengalokasikan sumber daya dengan lebih efektif. Perubahan algoritma mesin pencari, tren media sosial, serta kebijakan iklan digital dapat berdampak signifikan pada efektivitas sumber lalu lintas. Oleh karena itu, analisis mendalam diperlukan untuk mengidentifikasi sumber lalu lintas yang paling menguntungkan serta strategi yang dapat diterapkan guna meningkatkan keterlibatan pengguna dan tingkat konversi."
      ],
      "metadata": {
        "id": "wh_eQr0Vv00P"
      }
    },
    {
      "cell_type": "markdown",
      "source": [
        "### Data Mining Goals"
      ],
      "metadata": {
        "id": "cGF2AJbNvit7"
      }
    },
    {
      "cell_type": "markdown",
      "source": [
        "Studi ini bertujuan untuk:\n",
        "1. Mengidentifikasi sumber lalu lintas yang menghasilkan tingkat keterlibatan pengguna tertinggi (session duration dan time on page).\n",
        "2. Menganalisis hubungan antara sumber lalu lintas dan tingkat konversi guna menentukan saluran pemasaran yang paling efektif.\n",
        "3. Memahami faktor-faktor yang menyebabkan bounce rate tinggi dari sumber tertentu.\n",
        "4. Memberikan rekomendasi berbasis data terkait pengalokasian anggaran pemasaran digital untuk meningkatkan efektivitas strategi pemasaran."
      ],
      "metadata": {
        "id": "-CjHS7F6wJ8s"
      }
    },
    {
      "cell_type": "markdown",
      "source": [
        "### Project Plan"
      ],
      "metadata": {
        "id": "35T6TKD3wNH8"
      }
    },
    {
      "cell_type": "markdown",
      "source": [
        "1. **Pengumpulan Data**: Menggunakan dataset yang mencakup metrik seperti traffic source, session duration, bounce rate, dan conversion rate.\n",
        "2. **Pembersihan Data**: Mengidentifikasi dan menangani data yang hilang atau tidak valid.\n",
        "3. **Eksplorasi Data**: Visualisasi data untuk memahami pola keterlibatan pengguna dari masing-masing sumber lalu lintas.\n",
        "4. **Analisis Statistik & Model Prediktif**: Menggunakan teknik statistik dan machine learning untuk mengidentifikasi hubungan antara traffic source dan metrik kinerja situs web.\n",
        "5. **Pembuatan Rekomendasi**: Menyusun strategi berbasis data untuk meningkatkan efektivitas sumber lalu lintas dalam meningkatkan konversi.\n",
        "6. **Evaluasi & Implementasi**: Menguji hasil rekomendasi dengan strategi pemasaran yang dioptimalkan dan memantau dampaknya terhadap kinerja situs web."
      ],
      "metadata": {
        "id": "oI-E_wJywPN8"
      }
    }
  ]
}